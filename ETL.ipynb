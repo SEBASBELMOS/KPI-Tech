{
  "cells": [
    {
      "cell_type": "code",
      "execution_count": null,
      "metadata": {
        "id": "jCt2vs02QZcD"
      },
      "outputs": [],
      "source": [
        "import json\n",
        "import requests\n",
        "import numpy as np\n",
        "import pytz\n",
        "import pandas as pd\n",
        "import chardet\n",
        "\n",
        "url = 'https://raw.githubusercontent.com/SEBASBELMOS/KPI-Tech/main/salida.json'\n",
        "response = requests.get(url)\n",
        "encoding = chardet.detect(response.content)['encoding']\n",
        "data = response.content.decode(encoding)\n",
        "\n",
        "tickets = [json.loads(line) for line in data.splitlines()]\n",
        "\n",
        "df = pd.json_normalize(tickets)"
      ]
    },
    {
      "cell_type": "code",
      "execution_count": null,
      "metadata": {
        "id": "TSQjari2Qkrk"
      },
      "outputs": [],
      "source": [
        "columnas_a_eliminar = ['_id', 'departamento', 'fecha_creacion', 'prioridad', 'cliente._id', 'cliente.numero_identificacion', 'contacto.cargo', 'contacto.nombre', 'creador.cargo.__v', 'creador.cargo.consecutivo', 'creador.cargo.valor', 'creador.cargo.categoria', 'creador.cargo._id', 'creador.nombre', 'responsable._id', 'responsable.proceso._id', 'responsable.proceso.valor', 'responsable.tipo', 'responsable', 'responsable.proceso', 'creador.cargo', 'solucion.medio', 'solucion.medio._id', 'contacto', \"tipo_soporte\", \"responsable.numero_identificacion\",\"responsable.cargo\"]\n",
        "df = df.drop(columnas_a_eliminar, axis=1)"
      ]
    },
    {
      "cell_type": "code",
      "execution_count": null,
      "metadata": {
        "colab": {
          "base_uri": "https://localhost:8080/"
        },
        "id": "WCCTovKRTXmn",
        "outputId": "98cad9f2-122d-4925-aea2-d639521a2a8e"
      },
      "outputs": [
        {
          "name": "stdout",
          "output_type": "stream",
          "text": [
            "['Jennifer Valencia Esquivel' 'Lina Marcela Vargas Quintero'\n",
            " 'Bernardo Ruiz Caldas' 'Paul Andre Ruiz Caldas'\n",
            " 'Silvana Irene Bonilla Llano' nan 'Leidy Calad Blanco'\n",
            " 'SANTIAGO RUIZ VELASCO' 'Andres Felipe Vera Cifuentes'\n",
            " 'Comptel System Undefined' 'Undefined Undefined' 'LEIDY CALAD BLANCO'\n",
            " 'Luisa Maria Atehortua' 'Jhonatan Galvis'\n",
            " 'Juliana Katherine Pedraza Cardenas' 'Tivisay Rubiano Quintero'\n",
            " 'Miguel 0' 'Nathalia Rivera Posso' 'Jean Carlos Quisoboni Jimenez'\n",
            " 'Maria Victoria Murillo Prado']\n"
          ]
        }
      ],
      "source": [
        "df['responsable.nombre'] = df['responsable.nombre'].str.title()\n",
        "\n",
        "\n",
        "df['responsable.nombre'].replace({\n",
        "    'Santiago Ruiz Velasco': 'SANTIAGO RUIZ VELASCO',\n",
        "    'Leydi Calad Blanco': 'LEIDY CALAD BLANCO'\n",
        "}, inplace=True)\n",
        "\n",
        "print(df['responsable.nombre'].unique())"
      ]
    },
    {
      "cell_type": "code",
      "execution_count": null,
      "metadata": {
        "id": "Cxq_V6gaUMOY"
      },
      "outputs": [],
      "source": [
        "frecuencia_valores = df['responsable.nombre'].value_counts()\n",
        "print(frecuencia_valores)"
      ]
    },
    {
      "cell_type": "code",
      "execution_count": null,
      "metadata": {
        "id": "Q9t_mAavQoXB"
      },
      "outputs": [],
      "source": [
        "df = df.drop(df.index[46584:])"
      ]
    },
    {
      "cell_type": "code",
      "execution_count": null,
      "metadata": {
        "id": "bRxFLUJSQq1d"
      },
      "outputs": [],
      "source": [
        "df = df.dropna()"
      ]
    },
    {
      "cell_type": "code",
      "execution_count": null,
      "metadata": {
        "colab": {
          "base_uri": "https://localhost:8080/"
        },
        "id": "Go8ZKSr_Qrf3",
        "outputId": "0b4649a7-eab4-4c8d-86b1-42bc7f4f1b64"
      },
      "outputs": [
        {
          "name": "stdout",
          "output_type": "stream",
          "text": [
            "detalle                  False\n",
            "estado                   False\n",
            "titulo                   False\n",
            "cliente.nombre           False\n",
            "fecha_server.$date       False\n",
            "responsable.nombre       False\n",
            "solucion.fecha_inicio    False\n",
            "solucion.fecha_fin       False\n",
            "solucion.medio.valor     False\n",
            "solucion.detalle         False\n",
            "dtype: bool\n"
          ]
        }
      ],
      "source": [
        "print(df.isna().any())"
      ]
    },
    {
      "cell_type": "code",
      "execution_count": null,
      "metadata": {
        "id": "caIot-rchLZY"
      },
      "outputs": [],
      "source": [
        "f_df = df.copy()\n",
        "\n",
        "f_df['fecha_server.$date'] = pd.to_datetime(f_df['fecha_server.$date'])\n",
        "\n",
        "\n",
        "colombia_tz = pytz.timezone('America/Bogota')\n",
        "f_df['fecha_server.$date'] = f_df['fecha_server.$date'].dt.tz_convert(colombia_tz)\n",
        "\n",
        "\n",
        "f_df['fecha_server.$date'] = pd.to_datetime(f_df['fecha_server.$date'], format='%Y-%m-%d %H:%M:%S')\n",
        "\n",
        "\n",
        "colombia_tz = pytz.timezone('America/Bogota')\n",
        "\n",
        "\n",
        "f_df['fecha_server.$date'] = f_df['fecha_server.$date'].dt.tz_convert(colombia_tz).dt.strftime('%Y-%m-%d %H:%M:%S')"
      ]
    },
    {
      "cell_type": "code",
      "execution_count": null,
      "metadata": {
        "id": "q3MNSoIWRBY8"
      },
      "outputs": [],
      "source": [
        "f_df.to_csv('fuente.csv')"
      ]
    },
    {
      "cell_type": "code",
      "execution_count": null,
      "metadata": {
        "id": "_l6bFkQyQ0Qj"
      },
      "outputs": [],
      "source": [
        "new_df = df[['fecha_server.$date', 'solucion.fecha_inicio', 'solucion.fecha_fin','responsable.nombre']].copy()\n",
        "\n",
        "new_df['fecha_server.$date'] = pd.to_datetime(new_df['fecha_server.$date'])\n",
        "\n",
        "\n",
        "colombia_tz = pytz.timezone('America/Bogota')\n",
        "\n",
        "new_df['fecha_server.$date'] = new_df['fecha_server.$date'].dt.tz_convert(colombia_tz)\n",
        "\n",
        "\n",
        "new_df['fecha_server.$date'] = pd.to_datetime(new_df['fecha_server.$date'], format='%Y-%m-%d %H:%M:%S')\n",
        "\n",
        "\n",
        "colombia_tz = pytz.timezone('America/Bogota')\n",
        "\n",
        "\n",
        "new_df['fecha_server.$date'] = new_df['fecha_server.$date'].dt.tz_convert(colombia_tz).dt.strftime('%Y-%m-%d %H:%M:%S')"
      ]
    },
    {
      "cell_type": "code",
      "execution_count": null,
      "metadata": {
        "id": "uYyvCCFGQ7Fl"
      },
      "outputs": [],
      "source": [
        "d_df = new_df.copy()\n",
        "\n",
        "d_df = d_df.astype(str)"
      ]
    },
    {
      "cell_type": "code",
      "execution_count": null,
      "metadata": {
        "id": "SpWfPgjeQ9JC"
      },
      "outputs": [],
      "source": [
        "d_df['fecha_server.$date'] = pd.to_datetime(d_df['fecha_server.$date'], format=\"%Y-%m-%d %H:%M:%S\", errors='coerce')\n",
        "d_df['solucion.fecha_inicio'] = pd.to_datetime(d_df['solucion.fecha_inicio'], format=\"%Y-%m-%d %H:%M:%S\", errors='coerce')\n",
        "d_df['solucion.fecha_fin'] = pd.to_datetime(d_df['solucion.fecha_fin'], format=\"%Y-%m-%d %H:%M:%S\", errors='coerce')\n",
        "\n",
        "d_df = d_df.dropna()"
      ]
    },
    {
      "cell_type": "code",
      "execution_count": null,
      "metadata": {
        "id": "0wsTX7S5RCfy"
      },
      "outputs": [],
      "source": [
        "d_df.to_csv('fechas_responsables.csv')"
      ]
    }
  ],
  "metadata": {
    "colab": {
      "provenance": []
    },
    "kernelspec": {
      "display_name": "Python 3",
      "name": "python3"
    },
    "language_info": {
      "name": "python",
      "version": "3.11.5"
    }
  },
  "nbformat": 4,
  "nbformat_minor": 0
}
