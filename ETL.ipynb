{
  "nbformat": 4,
  "nbformat_minor": 0,
  "metadata": {
    "colab": {
      "provenance": []
    },
    "kernelspec": {
      "name": "python3",
      "display_name": "Python 3"
    },
    "language_info": {
      "name": "python"
    }
  },
  "cells": [
    {
      "cell_type": "code",
      "execution_count": null,
      "metadata": {
        "id": "jCt2vs02QZcD"
      },
      "outputs": [],
      "source": [
        "import json\n",
        "import requests\n",
        "import numpy as np\n",
        "import pytz\n",
        "import pandas as pd\n",
        "import chardet\n",
        "\n",
        "\n",
        "url = 'https://raw.githubusercontent.com/SEBASBELMOS/KPI-Tech/main/salida.json'\n",
        "response = requests.get(url)\n",
        "encoding = chardet.detect(response.content)['encoding']\n",
        "data = response.content.decode(encoding)\n",
        "\n",
        "\n",
        "tickets = [json.loads(line) for line in data.splitlines()]\n",
        "\n",
        "\n",
        "df = pd.json_normalize(tickets)"
      ]
    },
    {
      "cell_type": "code",
      "source": [
        "columnas_a_eliminar = ['_id', 'departamento', 'fecha_creacion', 'prioridad', 'cliente._id', 'cliente.numero_identificacion', 'contacto.cargo', 'contacto.nombre', 'creador.cargo.__v', 'creador.cargo.consecutivo', 'creador.cargo.valor', 'creador.cargo.categoria', 'creador.cargo._id', 'creador.nombre', 'responsable._id', 'responsable.proceso._id', 'responsable.proceso.valor', 'responsable.tipo', 'responsable', 'responsable.proceso', 'creador.cargo', 'solucion.medio', 'solucion.medio._id', 'contacto', \"tipo_soporte\", \"responsable.numero_identificacion\",\"responsable.cargo\"]\n",
        "df = df.drop(columnas_a_eliminar, axis=1)\n"
      ],
      "metadata": {
        "id": "TSQjari2Qkrk"
      },
      "execution_count": null,
      "outputs": []
    },
    {
      "cell_type": "code",
      "source": [
        "df['responsable.nombre'] = df['responsable.nombre'].str.title()\n",
        "\n",
        "\n",
        "df['responsable.nombre'].replace({\n",
        "    'Santiago Ruiz Velasco': 'SANTIAGO RUIZ VELASCO',\n",
        "    'Leydi Calad Blanco': 'LEIDY CALAD BLANCO'\n",
        "}, inplace=True)\n",
        "\n",
        "print(df['responsable.nombre'].unique())"
      ],
      "metadata": {
        "id": "WCCTovKRTXmn"
      },
      "execution_count": null,
      "outputs": []
    },
    {
      "cell_type": "code",
      "source": [
        "frecuencia_valores = df['responsable.nombre'].value_counts()\n",
        "print(frecuencia_valores)"
      ],
      "metadata": {
        "id": "Cxq_V6gaUMOY"
      },
      "execution_count": null,
      "outputs": []
    },
    {
      "cell_type": "code",
      "source": [
        "df = df.drop(df.index[46584:])"
      ],
      "metadata": {
        "id": "Q9t_mAavQoXB"
      },
      "execution_count": null,
      "outputs": []
    },
    {
      "cell_type": "code",
      "source": [
        "df = df.dropna()"
      ],
      "metadata": {
        "id": "bRxFLUJSQq1d"
      },
      "execution_count": null,
      "outputs": []
    },
    {
      "cell_type": "code",
      "source": [
        "print(df.isna().any())"
      ],
      "metadata": {
        "id": "Go8ZKSr_Qrf3",
        "colab": {
          "base_uri": "https://localhost:8080/"
        },
        "outputId": "def4cf58-c388-4f90-9670-71282f809acc"
      },
      "execution_count": null,
      "outputs": [
        {
          "output_type": "stream",
          "name": "stdout",
          "text": [
            "detalle                  False\n",
            "estado                   False\n",
            "titulo                   False\n",
            "cliente.nombre           False\n",
            "fecha_server.$date       False\n",
            "responsable.nombre       False\n",
            "solucion.fecha_inicio    False\n",
            "solucion.fecha_fin       False\n",
            "solucion.medio.valor     False\n",
            "solucion.detalle         False\n",
            "dtype: bool\n"
          ]
        }
      ]
    },
    {
      "cell_type": "code",
      "source": [
        "df.to_csv('fuente.csv')"
      ],
      "metadata": {
        "id": "q3MNSoIWRBY8"
      },
      "execution_count": null,
      "outputs": []
    },
    {
      "cell_type": "code",
      "source": [
        "new_df = df[['fecha_server.$date', 'solucion.fecha_inicio', 'solucion.fecha_fin','responsable.nombre']].copy()\n",
        "\n",
        "new_df['fecha_server.$date'] = pd.to_datetime(new_df['fecha_server.$date'])\n",
        "\n",
        "\n",
        "colombia_tz = pytz.timezone('America/Bogota')\n",
        "\n",
        "new_df['fecha_server.$date'] = new_df['fecha_server.$date'].dt.tz_convert(colombia_tz)\n",
        "\n",
        "\n",
        "new_df['fecha_server.$date'] = pd.to_datetime(new_df['fecha_server.$date'], format='%Y-%m-%d %H:%M:%S')\n",
        "\n",
        "\n",
        "colombia_tz = pytz.timezone('America/Bogota')\n",
        "\n",
        "\n",
        "new_df['fecha_server.$date'] = new_df['fecha_server.$date'].dt.tz_convert(colombia_tz).dt.strftime('%Y-%m-%d %H:%M:%S')"
      ],
      "metadata": {
        "id": "_l6bFkQyQ0Qj"
      },
      "execution_count": null,
      "outputs": []
    },
    {
      "cell_type": "code",
      "source": [
        "d_df = new_df.copy()\n",
        "\n",
        "d_df = d_df.astype(str)"
      ],
      "metadata": {
        "id": "uYyvCCFGQ7Fl"
      },
      "execution_count": null,
      "outputs": []
    },
    {
      "cell_type": "code",
      "source": [
        "d_df['fecha_server.$date'] = pd.to_datetime(d_df['fecha_server.$date'], format=\"%Y-%m-%d %H:%M:%S\", errors='coerce')\n",
        "d_df['solucion.fecha_inicio'] = pd.to_datetime(d_df['solucion.fecha_inicio'], format=\"%Y-%m-%d %H:%M:%S\", errors='coerce')\n",
        "d_df['solucion.fecha_fin'] = pd.to_datetime(d_df['solucion.fecha_fin'], format=\"%Y-%m-%d %H:%M:%S\", errors='coerce')\n",
        "\n",
        "d_df = d_df.dropna()"
      ],
      "metadata": {
        "id": "SpWfPgjeQ9JC"
      },
      "execution_count": null,
      "outputs": []
    },
    {
      "cell_type": "code",
      "source": [
        "d_df.to_csv('fechas_responsables.csv')"
      ],
      "metadata": {
        "id": "0wsTX7S5RCfy"
      },
      "execution_count": null,
      "outputs": []
    }
  ]
}