{
  "cells": [
    {
      "cell_type": "code",
      "execution_count": 1,
      "metadata": {
        "id": "jCt2vs02QZcD"
      },
      "outputs": [
        {
          "ename": "KeyboardInterrupt",
          "evalue": "",
          "output_type": "error",
          "traceback": [
            "\u001b[1;31m---------------------------------------------------------------------------\u001b[0m",
            "\u001b[1;31mKeyboardInterrupt\u001b[0m                         Traceback (most recent call last)",
            "\u001b[1;32mc:\\Users\\sebas\\OneDrive\\Documentos\\GitHub\\KPI-Tech\\ETL.ipynb Cell 1\u001b[0m line \u001b[0;36m1\n\u001b[0;32m     <a href='vscode-notebook-cell:/c%3A/Users/sebas/OneDrive/Documentos/GitHub/KPI-Tech/ETL.ipynb#W0sZmlsZQ%3D%3D?line=9'>10</a>\u001b[0m encoding \u001b[39m=\u001b[39m chardet\u001b[39m.\u001b[39mdetect(response\u001b[39m.\u001b[39mcontent)[\u001b[39m'\u001b[39m\u001b[39mencoding\u001b[39m\u001b[39m'\u001b[39m]\n\u001b[0;32m     <a href='vscode-notebook-cell:/c%3A/Users/sebas/OneDrive/Documentos/GitHub/KPI-Tech/ETL.ipynb#W0sZmlsZQ%3D%3D?line=10'>11</a>\u001b[0m data \u001b[39m=\u001b[39m response\u001b[39m.\u001b[39mcontent\u001b[39m.\u001b[39mdecode(encoding)\n\u001b[1;32m---> <a href='vscode-notebook-cell:/c%3A/Users/sebas/OneDrive/Documentos/GitHub/KPI-Tech/ETL.ipynb#W0sZmlsZQ%3D%3D?line=12'>13</a>\u001b[0m tickets \u001b[39m=\u001b[39m [json\u001b[39m.\u001b[39;49mloads(line) \u001b[39mfor\u001b[39;49;00m line \u001b[39min\u001b[39;49;00m data\u001b[39m.\u001b[39;49msplitlines()]\n\u001b[0;32m     <a href='vscode-notebook-cell:/c%3A/Users/sebas/OneDrive/Documentos/GitHub/KPI-Tech/ETL.ipynb#W0sZmlsZQ%3D%3D?line=14'>15</a>\u001b[0m df \u001b[39m=\u001b[39m pd\u001b[39m.\u001b[39mjson_normalize(tickets)\n",
            "\u001b[1;32mc:\\Users\\sebas\\OneDrive\\Documentos\\GitHub\\KPI-Tech\\ETL.ipynb Cell 1\u001b[0m line \u001b[0;36m1\n\u001b[0;32m     <a href='vscode-notebook-cell:/c%3A/Users/sebas/OneDrive/Documentos/GitHub/KPI-Tech/ETL.ipynb#W0sZmlsZQ%3D%3D?line=9'>10</a>\u001b[0m encoding \u001b[39m=\u001b[39m chardet\u001b[39m.\u001b[39mdetect(response\u001b[39m.\u001b[39mcontent)[\u001b[39m'\u001b[39m\u001b[39mencoding\u001b[39m\u001b[39m'\u001b[39m]\n\u001b[0;32m     <a href='vscode-notebook-cell:/c%3A/Users/sebas/OneDrive/Documentos/GitHub/KPI-Tech/ETL.ipynb#W0sZmlsZQ%3D%3D?line=10'>11</a>\u001b[0m data \u001b[39m=\u001b[39m response\u001b[39m.\u001b[39mcontent\u001b[39m.\u001b[39mdecode(encoding)\n\u001b[1;32m---> <a href='vscode-notebook-cell:/c%3A/Users/sebas/OneDrive/Documentos/GitHub/KPI-Tech/ETL.ipynb#W0sZmlsZQ%3D%3D?line=12'>13</a>\u001b[0m tickets \u001b[39m=\u001b[39m [json\u001b[39m.\u001b[39;49mloads(line) \u001b[39mfor\u001b[39;00m line \u001b[39min\u001b[39;00m data\u001b[39m.\u001b[39msplitlines()]\n\u001b[0;32m     <a href='vscode-notebook-cell:/c%3A/Users/sebas/OneDrive/Documentos/GitHub/KPI-Tech/ETL.ipynb#W0sZmlsZQ%3D%3D?line=14'>15</a>\u001b[0m df \u001b[39m=\u001b[39m pd\u001b[39m.\u001b[39mjson_normalize(tickets)\n",
            "File \u001b[1;32mC:\\Program Files\\WindowsApps\\PythonSoftwareFoundation.Python.3.11_3.11.1520.0_x64__qbz5n2kfra8p0\\Lib\\json\\__init__.py:346\u001b[0m, in \u001b[0;36mloads\u001b[1;34m(s, cls, object_hook, parse_float, parse_int, parse_constant, object_pairs_hook, **kw)\u001b[0m\n\u001b[0;32m    341\u001b[0m     s \u001b[39m=\u001b[39m s\u001b[39m.\u001b[39mdecode(detect_encoding(s), \u001b[39m'\u001b[39m\u001b[39msurrogatepass\u001b[39m\u001b[39m'\u001b[39m)\n\u001b[0;32m    343\u001b[0m \u001b[39mif\u001b[39;00m (\u001b[39mcls\u001b[39m \u001b[39mis\u001b[39;00m \u001b[39mNone\u001b[39;00m \u001b[39mand\u001b[39;00m object_hook \u001b[39mis\u001b[39;00m \u001b[39mNone\u001b[39;00m \u001b[39mand\u001b[39;00m\n\u001b[0;32m    344\u001b[0m         parse_int \u001b[39mis\u001b[39;00m \u001b[39mNone\u001b[39;00m \u001b[39mand\u001b[39;00m parse_float \u001b[39mis\u001b[39;00m \u001b[39mNone\u001b[39;00m \u001b[39mand\u001b[39;00m\n\u001b[0;32m    345\u001b[0m         parse_constant \u001b[39mis\u001b[39;00m \u001b[39mNone\u001b[39;00m \u001b[39mand\u001b[39;00m object_pairs_hook \u001b[39mis\u001b[39;00m \u001b[39mNone\u001b[39;00m \u001b[39mand\u001b[39;00m \u001b[39mnot\u001b[39;00m kw):\n\u001b[1;32m--> 346\u001b[0m     \u001b[39mreturn\u001b[39;00m _default_decoder\u001b[39m.\u001b[39;49mdecode(s)\n\u001b[0;32m    347\u001b[0m \u001b[39mif\u001b[39;00m \u001b[39mcls\u001b[39m \u001b[39mis\u001b[39;00m \u001b[39mNone\u001b[39;00m:\n\u001b[0;32m    348\u001b[0m     \u001b[39mcls\u001b[39m \u001b[39m=\u001b[39m JSONDecoder\n",
            "File \u001b[1;32mC:\\Program Files\\WindowsApps\\PythonSoftwareFoundation.Python.3.11_3.11.1520.0_x64__qbz5n2kfra8p0\\Lib\\json\\decoder.py:338\u001b[0m, in \u001b[0;36mJSONDecoder.decode\u001b[1;34m(self, s, _w)\u001b[0m\n\u001b[0;32m    333\u001b[0m \u001b[39m\u001b[39m\u001b[39m\"\"\"Return the Python representation of ``s`` (a ``str`` instance\u001b[39;00m\n\u001b[0;32m    334\u001b[0m \u001b[39mcontaining a JSON document).\u001b[39;00m\n\u001b[0;32m    335\u001b[0m \n\u001b[0;32m    336\u001b[0m \u001b[39m\"\"\"\u001b[39;00m\n\u001b[0;32m    337\u001b[0m obj, end \u001b[39m=\u001b[39m \u001b[39mself\u001b[39m\u001b[39m.\u001b[39mraw_decode(s, idx\u001b[39m=\u001b[39m_w(s, \u001b[39m0\u001b[39m)\u001b[39m.\u001b[39mend())\n\u001b[1;32m--> 338\u001b[0m end \u001b[39m=\u001b[39m _w(s, end)\u001b[39m.\u001b[39mend()\n\u001b[0;32m    339\u001b[0m \u001b[39mif\u001b[39;00m end \u001b[39m!=\u001b[39m \u001b[39mlen\u001b[39m(s):\n\u001b[0;32m    340\u001b[0m     \u001b[39mraise\u001b[39;00m JSONDecodeError(\u001b[39m\"\u001b[39m\u001b[39mExtra data\u001b[39m\u001b[39m\"\u001b[39m, s, end)\n",
            "\u001b[1;31mKeyboardInterrupt\u001b[0m: "
          ]
        }
      ],
      "source": [
        "import json\n",
        "import requests\n",
        "import numpy as np\n",
        "import pytz\n",
        "import pandas as pd\n",
        "import chardet\n",
        "\n",
        "url = 'https://drive.google.com/uc?export=download&id=1W-DbKPjq_zPX-pd6fNr-Vk9fDSy3f34i&authuser=1'\n",
        "response = requests.get(url)\n",
        "encoding = chardet.detect(response.content)['encoding']\n",
        "data = response.content.decode(encoding)\n",
        "\n",
        "tickets = [json.loads(line) for line in data.splitlines()]\n",
        "\n",
        "df = pd.json_normalize(tickets)"
      ]
    },
    {
      "cell_type": "code",
      "execution_count": null,
      "metadata": {
        "id": "TSQjari2Qkrk"
      },
      "outputs": [],
      "source": [
        "columnas_a_eliminar = ['_id', 'departamento', 'fecha_creacion', 'prioridad', 'cliente._id', 'cliente.numero_identificacion', 'contacto.cargo', 'contacto.nombre', 'creador.cargo.__v', 'creador.cargo.consecutivo', 'creador.cargo.valor', 'creador.cargo.categoria', 'creador.cargo._id', 'creador.nombre', 'responsable._id', 'responsable.proceso._id', 'responsable.proceso.valor', 'responsable.tipo', 'responsable', 'responsable.proceso', 'creador.cargo', 'solucion.medio', 'solucion.medio._id', 'contacto', \"tipo_soporte\", \"responsable.numero_identificacion\",\"responsable.cargo\"]\n",
        "df = df.drop(columnas_a_eliminar, axis=1)"
      ]
    },
    {
      "cell_type": "code",
      "execution_count": null,
      "metadata": {
        "id": "WCCTovKRTXmn"
      },
      "outputs": [],
      "source": [
        "df['responsable.nombre'] = df['responsable.nombre'].str.title()\n",
        "\n",
        "\n",
        "df['responsable.nombre'].replace({\n",
        "    'Santiago Ruiz Velasco': 'SANTIAGO RUIZ VELASCO',\n",
        "    'Leydi Calad Blanco': 'LEIDY CALAD BLANCO'\n",
        "}, inplace=True)\n",
        "\n",
        "print(df['responsable.nombre'].unique())"
      ]
    },
    {
      "cell_type": "code",
      "execution_count": null,
      "metadata": {
        "id": "Cxq_V6gaUMOY"
      },
      "outputs": [],
      "source": [
        "frecuencia_valores = df['responsable.nombre'].value_counts()\n",
        "print(frecuencia_valores)"
      ]
    },
    {
      "cell_type": "code",
      "execution_count": null,
      "metadata": {
        "id": "Q9t_mAavQoXB"
      },
      "outputs": [],
      "source": [
        "df = df.drop(df.index[46584:])"
      ]
    },
    {
      "cell_type": "code",
      "execution_count": null,
      "metadata": {
        "id": "bRxFLUJSQq1d"
      },
      "outputs": [],
      "source": [
        "df = df.dropna()"
      ]
    },
    {
      "cell_type": "code",
      "execution_count": null,
      "metadata": {
        "colab": {
          "base_uri": "https://localhost:8080/"
        },
        "id": "Go8ZKSr_Qrf3",
        "outputId": "def4cf58-c388-4f90-9670-71282f809acc"
      },
      "outputs": [
        {
          "name": "stdout",
          "output_type": "stream",
          "text": [
            "detalle                  False\n",
            "estado                   False\n",
            "titulo                   False\n",
            "cliente.nombre           False\n",
            "fecha_server.$date       False\n",
            "responsable.nombre       False\n",
            "solucion.fecha_inicio    False\n",
            "solucion.fecha_fin       False\n",
            "solucion.medio.valor     False\n",
            "solucion.detalle         False\n",
            "dtype: bool\n"
          ]
        }
      ],
      "source": [
        "print(df.isna().any())"
      ]
    },
    {
      "cell_type": "code",
      "execution_count": null,
      "metadata": {
        "id": "q3MNSoIWRBY8"
      },
      "outputs": [],
      "source": [
        "df.to_csv('fuente.csv')"
      ]
    },
    {
      "cell_type": "code",
      "execution_count": null,
      "metadata": {
        "id": "_l6bFkQyQ0Qj"
      },
      "outputs": [],
      "source": [
        "new_df = df[['fecha_server.$date', 'solucion.fecha_inicio', 'solucion.fecha_fin','responsable.nombre']].copy()\n",
        "\n",
        "new_df['fecha_server.$date'] = pd.to_datetime(new_df['fecha_server.$date'])\n",
        "\n",
        "\n",
        "colombia_tz = pytz.timezone('America/Bogota')\n",
        "\n",
        "new_df['fecha_server.$date'] = new_df['fecha_server.$date'].dt.tz_convert(colombia_tz)\n",
        "\n",
        "\n",
        "new_df['fecha_server.$date'] = pd.to_datetime(new_df['fecha_server.$date'], format='%Y-%m-%d %H:%M:%S')\n",
        "\n",
        "\n",
        "colombia_tz = pytz.timezone('America/Bogota')\n",
        "\n",
        "\n",
        "new_df['fecha_server.$date'] = new_df['fecha_server.$date'].dt.tz_convert(colombia_tz).dt.strftime('%Y-%m-%d %H:%M:%S')"
      ]
    },
    {
      "cell_type": "code",
      "execution_count": null,
      "metadata": {
        "id": "uYyvCCFGQ7Fl"
      },
      "outputs": [],
      "source": [
        "d_df = new_df.copy()\n",
        "\n",
        "d_df = d_df.astype(str)"
      ]
    },
    {
      "cell_type": "code",
      "execution_count": null,
      "metadata": {
        "id": "SpWfPgjeQ9JC"
      },
      "outputs": [],
      "source": [
        "d_df['fecha_server.$date'] = pd.to_datetime(d_df['fecha_server.$date'], format=\"%Y-%m-%d %H:%M:%S\", errors='coerce')\n",
        "d_df['solucion.fecha_inicio'] = pd.to_datetime(d_df['solucion.fecha_inicio'], format=\"%Y-%m-%d %H:%M:%S\", errors='coerce')\n",
        "d_df['solucion.fecha_fin'] = pd.to_datetime(d_df['solucion.fecha_fin'], format=\"%Y-%m-%d %H:%M:%S\", errors='coerce')\n",
        "\n",
        "d_df = d_df.dropna()"
      ]
    },
    {
      "cell_type": "code",
      "execution_count": null,
      "metadata": {
        "id": "0wsTX7S5RCfy"
      },
      "outputs": [],
      "source": [
        "d_df.to_csv('fechas_responsables.csv')"
      ]
    }
  ],
  "metadata": {
    "colab": {
      "provenance": []
    },
    "kernelspec": {
      "display_name": "Python 3",
      "name": "python3"
    },
    "language_info": {
      "codemirror_mode": {
        "name": "ipython",
        "version": 3
      },
      "file_extension": ".py",
      "mimetype": "text/x-python",
      "name": "python",
      "nbconvert_exporter": "python",
      "pygments_lexer": "ipython3",
      "version": "3.11.5"
    }
  },
  "nbformat": 4,
  "nbformat_minor": 0
}
